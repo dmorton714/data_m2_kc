{
 "cells": [
  {
   "cell_type": "markdown",
   "metadata": {},
   "source": [
    "![Alt text](image/banner.webp)"
   ]
  },
  {
   "cell_type": "markdown",
   "metadata": {},
   "source": [
    "### Welcome to the Code:You\n",
    "#### Module 2 Knowledge Check.\n",
    "\n",
    "In the cell below, we will import the necessary packages to ensure you have everything you need to complete this assignment. If these packages are not already installed, they will be installed automatically."
   ]
  },
  {
   "cell_type": "code",
   "execution_count": null,
   "metadata": {},
   "outputs": [],
   "source": [
    "import subprocess\n",
    "import sys\n",
    "\n",
    "def install_and_import(package):\n",
    "    try:\n",
    "        __import__(package)\n",
    "        print(f\"{package} is already installed.\")\n",
    "    except ImportError:\n",
    "        print(f\"{package} not found. Installing {package}...\")\n",
    "        subprocess.check_call([sys.executable, \"-m\", \"pip\", \"install\", package])\n",
    "        __import__(package)\n",
    "        print(f\"{package} has been installed.\")\n",
    "\n",
    "install_and_import('pandas')\n",
    "install_and_import('matplotlib')\n",
    "\n",
    "import pandas as pd\n",
    "import matplotlib.pyplot as plt\n",
    "import matplotlib.ticker as ticker\n"
   ]
  },
  {
   "cell_type": "markdown",
   "metadata": {},
   "source": [
    "The following block executes `api_call.py`, which retrieves data from the Louisville Open Data API. The data is then saved as a CSV file in the data folder. It could take a couple mins to run."
   ]
  },
  {
   "cell_type": "code",
   "execution_count": null,
   "metadata": {},
   "outputs": [],
   "source": [
    "from api_call import data_creation\n",
    "\n",
    "data_creation()"
   ]
  },
  {
   "cell_type": "markdown",
   "metadata": {},
   "source": [
    "# Question 1 \n",
    "---\n",
    "Read in the data using the variable df"
   ]
  },
  {
   "cell_type": "code",
   "execution_count": null,
   "metadata": {},
   "outputs": [],
   "source": []
  },
  {
   "cell_type": "markdown",
   "metadata": {},
   "source": [
    "#### Question 2\n",
    "Display the first 5 rows of data. "
   ]
  },
  {
   "cell_type": "code",
   "execution_count": null,
   "metadata": {},
   "outputs": [],
   "source": []
  },
  {
   "cell_type": "markdown",
   "metadata": {},
   "source": [
    "#### Question 3\n",
    "Display the last 5 rows of data. "
   ]
  },
  {
   "cell_type": "code",
   "execution_count": null,
   "metadata": {},
   "outputs": [],
   "source": []
  },
  {
   "cell_type": "markdown",
   "metadata": {},
   "source": [
    "#### Question 4\n",
    "Find the shape of the dataframe "
   ]
  },
  {
   "cell_type": "code",
   "execution_count": null,
   "metadata": {},
   "outputs": [],
   "source": []
  },
  {
   "cell_type": "markdown",
   "metadata": {},
   "source": [
    "#### Question 5\n",
    "Use the describe function to gain some insights to our data. "
   ]
  },
  {
   "cell_type": "code",
   "execution_count": null,
   "metadata": {},
   "outputs": [],
   "source": []
  },
  {
   "cell_type": "markdown",
   "metadata": {},
   "source": [
    "#### Question 6\n",
    "Find the unique vales in the CalYear column"
   ]
  },
  {
   "cell_type": "code",
   "execution_count": null,
   "metadata": {},
   "outputs": [],
   "source": []
  },
  {
   "cell_type": "markdown",
   "metadata": {},
   "source": [
    "#### Question 7\n",
    "Filter the DataFrame to include only rows where the `CalYear` is `2024`, and assign the result to a variable named `df_2024`."
   ]
  },
  {
   "cell_type": "code",
   "execution_count": null,
   "metadata": {},
   "outputs": [],
   "source": []
  },
  {
   "cell_type": "markdown",
   "metadata": {},
   "source": [
    "This will test to see if you filtered the dataframe correctly. "
   ]
  },
  {
   "cell_type": "code",
   "execution_count": null,
   "metadata": {},
   "outputs": [],
   "source": [
    "try:\n",
    "    if 'df_2024' in globals():\n",
    "        if not df_2024[df_2024['CalYear'] != 2024].empty:\n",
    "            years = df_2024['CalYear'].unique()\n",
    "            print(f\"Your dataframe still has {years} in the CalYear column.\")\n",
    "        else:\n",
    "            print(\"Congratulations, you dropped the correct columns!\")\n",
    "    else:\n",
    "        print(\"The dataframe 'df_2024' is not defined. Did you name the dataframe correctly?\")\n",
    "        \n",
    "except NameError:\n",
    "    print(\"Did you name the dataframe correctly?\")"
   ]
  },
  {
   "cell_type": "markdown",
   "metadata": {},
   "source": [
    "#### Question 8\n",
    "Drop the columns in the `cols_to_drop` list. "
   ]
  },
  {
   "cell_type": "code",
   "execution_count": null,
   "metadata": {},
   "outputs": [],
   "source": [
    "cols_to_drop = ['Annual_Rate', 'Overtime_Rate', 'Incentive_Allowance', 'Other', 'ObjectId']\n",
    "\n",
    "# Your code here"
   ]
  },
  {
   "cell_type": "markdown",
   "metadata": {},
   "source": [
    "This will check to see if the columns got dropped or not."
   ]
  },
  {
   "cell_type": "code",
   "execution_count": null,
   "metadata": {},
   "outputs": [],
   "source": [
    "try:\n",
    "    if 'df_2024' in globals():\n",
    "        cols_to_drop = ['Annual_Rate', 'Overtime_Rate', 'Incentive_Allowance', 'Other', 'ObjectId']\n",
    "        remaining_cols = [col for col in cols_to_drop if col in df_2024.columns]\n",
    "        if remaining_cols:\n",
    "            print(f\"The following columns were not dropped: {remaining_cols}\")\n",
    "        else:\n",
    "            print(\"Congratulations, all specified columns were successfully dropped!\")\n",
    "    else:\n",
    "        print(\"The dataframe 'df_2024' is not defined. Did you name the dataframe correctly?\")\n",
    "        \n",
    "except NameError:\n",
    "    print(\"Did you name the dataframe correctly?\")\n"
   ]
  },
  {
   "cell_type": "markdown",
   "metadata": {},
   "source": [
    "#### Question 9\n",
    "Remove rows from `df_2024` where the `YTD_Total` column contains either null values or zeros."
   ]
  },
  {
   "cell_type": "code",
   "execution_count": null,
   "metadata": {},
   "outputs": [],
   "source": []
  },
  {
   "cell_type": "markdown",
   "metadata": {},
   "source": [
    "This will test to see if you removed rows with NaN or 0 values in 'YTD_Total'."
   ]
  },
  {
   "cell_type": "code",
   "execution_count": null,
   "metadata": {},
   "outputs": [],
   "source": [
    "try:\n",
    "    if 'df_2024' in globals():\n",
    "        if df_2024['YTD_Total'].isna().any():\n",
    "            print(\"There are still NaN values in the 'YTD_Total' column.\")\n",
    "        elif (df_2024['YTD_Total'] == 0).any():\n",
    "            print(\"There are still rows with 'YTD_Total' equal to 0.\")\n",
    "        else:\n",
    "            print(\"Congratulations, you've successfully removed rows with NaN or 0 values in 'YTD_Total'!\")\n",
    "    else:\n",
    "        print(\"The dataframe 'df_2024' is not defined. Did you name the dataframe correctly?\")\n",
    "        \n",
    "except NameError:\n",
    "    print(\"Did you name the dataframe correctly?\")\n"
   ]
  },
  {
   "cell_type": "markdown",
   "metadata": {},
   "source": [
    "---\n",
    "If all the above was done correctly the below code will run and plot our findings of annual salary vs YTD salary spend. "
   ]
  },
  {
   "cell_type": "code",
   "execution_count": null,
   "metadata": {},
   "outputs": [],
   "source": [
    "grouped_df = df_2024.groupby('Department')[['Regular_Rate', 'YTD_Total']].sum()\n",
    "grouped_df = grouped_df.sort_values(by='Regular_Rate', ascending=False).head(5)\n",
    "\n",
    "fig, ax = plt.subplots(figsize=(14, 6))\n",
    "\n",
    "grouped_df.plot(kind='line', marker='o', ax=ax, color=['grey', 'red'], legend=True)\n",
    "\n",
    "ax.set_title('Annual Salary vs YTD Total by Department')\n",
    "ax.set_xlabel('Department')\n",
    "ax.set_ylabel('Value')\n",
    "\n",
    "def millions(x, pos):\n",
    "    'The two args are the value and tick position'\n",
    "    return '%1.1fM' % (x * 1e-6)\n",
    "\n",
    "ax.yaxis.set_major_formatter(ticker.FuncFormatter(millions))\n",
    "\n",
    "ax.yaxis.set_major_locator(ticker.MaxNLocator(integer=True))\n",
    "\n",
    "plt.xticks(rotation=45, ha='right')\n",
    "\n",
    "ax.set_xticks(range(len(grouped_df)))\n",
    "ax.set_xticklabels(grouped_df.index, rotation=45, ha='right')\n",
    "\n",
    "ax.set_xlim([-0.5, len(grouped_df) - 0.5])\n",
    "\n",
    "y_min, y_max = grouped_df.min().min() * 0.9, grouped_df.max().max() * 1.1\n",
    "ax.set_ylim([y_min, y_max])\n",
    "\n",
    "handles, labels = ax.get_legend_handles_labels()\n",
    "ax.legend([handles[0], handles[1]], ['Salary', 'YTD Total'])\n",
    "\n",
    "plt.grid(True)\n",
    "plt.tight_layout()\n",
    "plt.show()"
   ]
  }
 ],
 "metadata": {
  "kernelspec": {
   "display_name": "venv",
   "language": "python",
   "name": "python3"
  },
  "language_info": {
   "codemirror_mode": {
    "name": "ipython",
    "version": 3
   },
   "file_extension": ".py",
   "mimetype": "text/x-python",
   "name": "python",
   "nbconvert_exporter": "python",
   "pygments_lexer": "ipython3",
   "version": "3.12.2"
  }
 },
 "nbformat": 4,
 "nbformat_minor": 2
}
