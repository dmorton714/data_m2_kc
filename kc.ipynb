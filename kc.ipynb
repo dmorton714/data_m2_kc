{
 "cells": [
  {
   "cell_type": "markdown",
   "metadata": {},
   "source": [
    "![Alt text](image/banner.webp)"
   ]
  },
  {
   "cell_type": "markdown",
   "metadata": {},
   "source": [
    "### Welcome to the Code:You\n",
    "#### Module 2 Knowledge Check.\n",
    "\n",
    "In the cell below, we will import the necessary packages to ensure you have everything you need to complete this assignment. If these packages are not already installed, they will be installed automatically."
   ]
  },
  {
   "cell_type": "code",
   "execution_count": 28,
   "metadata": {},
   "outputs": [
    {
     "name": "stdout",
     "output_type": "stream",
     "text": [
      "pandas is already installed.\n",
      "matplotlib is already installed.\n",
      "requests is already installed.\n"
     ]
    }
   ],
   "source": [
    "import subprocess\n",
    "import sys\n",
    "\n",
    "def install_and_import(package):\n",
    "    try:\n",
    "        __import__(package)\n",
    "        print(f\"{package} is already installed.\")\n",
    "    except ImportError:\n",
    "        print(f\"{package} not found. Installing {package}...\")\n",
    "        subprocess.check_call([sys.executable, \"-m\", \"pip\", \"install\", package])\n",
    "        __import__(package)\n",
    "        print(f\"{package} has been installed.\")\n",
    "\n",
    "install_and_import('pandas')\n",
    "install_and_import('matplotlib')\n",
    "install_and_import('requests')\n",
    "\n",
    "import pandas as pd\n",
    "import matplotlib.pyplot as plt\n",
    "import matplotlib.ticker as ticker\n"
   ]
  },
  {
   "cell_type": "markdown",
   "metadata": {},
   "source": [
    "The following block executes `api_call.py`, which retrieves data from the Louisville Open Data API. The data is then saved as a CSV file in the data folder. It could take a couple mins to run."
   ]
  },
  {
   "cell_type": "code",
   "execution_count": 29,
   "metadata": {},
   "outputs": [],
   "source": [
    "from api_call import data_creation\n",
    "\n",
    "# data_creation()"
   ]
  },
  {
   "cell_type": "markdown",
   "metadata": {},
   "source": [
    "Read in the data using the variable df"
   ]
  },
  {
   "cell_type": "code",
   "execution_count": 30,
   "metadata": {},
   "outputs": [],
   "source": [
    "df = pd.read_csv(\"data/salary_data.csv\", low_memory=False)"
   ]
  },
  {
   "cell_type": "markdown",
   "metadata": {},
   "source": [
    "Display the first 5 rows of data. "
   ]
  },
  {
   "cell_type": "code",
   "execution_count": 31,
   "metadata": {},
   "outputs": [
    {
     "data": {
      "text/html": [
       "<div>\n",
       "<style scoped>\n",
       "    .dataframe tbody tr th:only-of-type {\n",
       "        vertical-align: middle;\n",
       "    }\n",
       "\n",
       "    .dataframe tbody tr th {\n",
       "        vertical-align: top;\n",
       "    }\n",
       "\n",
       "    .dataframe thead th {\n",
       "        text-align: right;\n",
       "    }\n",
       "</style>\n",
       "<table border=\"1\" class=\"dataframe\">\n",
       "  <thead>\n",
       "    <tr style=\"text-align: right;\">\n",
       "      <th></th>\n",
       "      <th>CalYear</th>\n",
       "      <th>Employee_Name</th>\n",
       "      <th>Department</th>\n",
       "      <th>jobTitle</th>\n",
       "      <th>Annual_Rate</th>\n",
       "      <th>Regular_Rate</th>\n",
       "      <th>Overtime_Rate</th>\n",
       "      <th>Incentive_Allowance</th>\n",
       "      <th>Other</th>\n",
       "      <th>YTD_Total</th>\n",
       "      <th>ObjectId</th>\n",
       "    </tr>\n",
       "  </thead>\n",
       "  <tbody>\n",
       "    <tr>\n",
       "      <th>0</th>\n",
       "      <td>2020</td>\n",
       "      <td>Sedgwick, Ernest</td>\n",
       "      <td>Parks &amp; Recreation</td>\n",
       "      <td>Graphic Specialist</td>\n",
       "      <td>45136.0</td>\n",
       "      <td>46872.00</td>\n",
       "      <td>0.00</td>\n",
       "      <td>0.0</td>\n",
       "      <td>NaN</td>\n",
       "      <td>47392.80</td>\n",
       "      <td>1</td>\n",
       "    </tr>\n",
       "    <tr>\n",
       "      <th>1</th>\n",
       "      <td>2020</td>\n",
       "      <td>Tutt, Michael</td>\n",
       "      <td>Inspections, Permits &amp; License</td>\n",
       "      <td>Labor Supervisor</td>\n",
       "      <td>64105.6</td>\n",
       "      <td>66571.24</td>\n",
       "      <td>11329.46</td>\n",
       "      <td>0.0</td>\n",
       "      <td>NaN</td>\n",
       "      <td>77900.70</td>\n",
       "      <td>2</td>\n",
       "    </tr>\n",
       "    <tr>\n",
       "      <th>2</th>\n",
       "      <td>2020</td>\n",
       "      <td>Comstock, Debra</td>\n",
       "      <td>Inspections, Permits &amp; License</td>\n",
       "      <td>Personnel Coordinator</td>\n",
       "      <td>48672.0</td>\n",
       "      <td>50544.00</td>\n",
       "      <td>0.00</td>\n",
       "      <td>0.0</td>\n",
       "      <td>NaN</td>\n",
       "      <td>50544.00</td>\n",
       "      <td>3</td>\n",
       "    </tr>\n",
       "    <tr>\n",
       "      <th>3</th>\n",
       "      <td>2020</td>\n",
       "      <td>Ellingsworth, Mark</td>\n",
       "      <td>Inspections, Permits &amp; License</td>\n",
       "      <td>Licenses &amp; Permits Investig</td>\n",
       "      <td>46800.0</td>\n",
       "      <td>48527.58</td>\n",
       "      <td>1005.75</td>\n",
       "      <td>175.0</td>\n",
       "      <td>NaN</td>\n",
       "      <td>49708.33</td>\n",
       "      <td>4</td>\n",
       "    </tr>\n",
       "    <tr>\n",
       "      <th>4</th>\n",
       "      <td>2020</td>\n",
       "      <td>Maskey, Matthew</td>\n",
       "      <td>Public Works</td>\n",
       "      <td>Fleet Administrator</td>\n",
       "      <td>70345.6</td>\n",
       "      <td>19541.20</td>\n",
       "      <td>3.53</td>\n",
       "      <td>0.0</td>\n",
       "      <td>NaN</td>\n",
       "      <td>19544.73</td>\n",
       "      <td>5</td>\n",
       "    </tr>\n",
       "  </tbody>\n",
       "</table>\n",
       "</div>"
      ],
      "text/plain": [
       "   CalYear       Employee_Name                      Department  \\\n",
       "0     2020    Sedgwick, Ernest              Parks & Recreation   \n",
       "1     2020       Tutt, Michael  Inspections, Permits & License   \n",
       "2     2020     Comstock, Debra  Inspections, Permits & License   \n",
       "3     2020  Ellingsworth, Mark  Inspections, Permits & License   \n",
       "4     2020     Maskey, Matthew                    Public Works   \n",
       "\n",
       "                      jobTitle  Annual_Rate  Regular_Rate  Overtime_Rate  \\\n",
       "0           Graphic Specialist      45136.0      46872.00           0.00   \n",
       "1             Labor Supervisor      64105.6      66571.24       11329.46   \n",
       "2        Personnel Coordinator      48672.0      50544.00           0.00   \n",
       "3  Licenses & Permits Investig      46800.0      48527.58        1005.75   \n",
       "4          Fleet Administrator      70345.6      19541.20           3.53   \n",
       "\n",
       "   Incentive_Allowance  Other  YTD_Total  ObjectId  \n",
       "0                  0.0    NaN   47392.80         1  \n",
       "1                  0.0    NaN   77900.70         2  \n",
       "2                  0.0    NaN   50544.00         3  \n",
       "3                175.0    NaN   49708.33         4  \n",
       "4                  0.0    NaN   19544.73         5  "
      ]
     },
     "execution_count": 31,
     "metadata": {},
     "output_type": "execute_result"
    }
   ],
   "source": [
    "df.head()"
   ]
  },
  {
   "cell_type": "markdown",
   "metadata": {},
   "source": [
    "Display the last 5 rows of data. "
   ]
  },
  {
   "cell_type": "code",
   "execution_count": 32,
   "metadata": {},
   "outputs": [
    {
     "data": {
      "text/html": [
       "<div>\n",
       "<style scoped>\n",
       "    .dataframe tbody tr th:only-of-type {\n",
       "        vertical-align: middle;\n",
       "    }\n",
       "\n",
       "    .dataframe tbody tr th {\n",
       "        vertical-align: top;\n",
       "    }\n",
       "\n",
       "    .dataframe thead th {\n",
       "        text-align: right;\n",
       "    }\n",
       "</style>\n",
       "<table border=\"1\" class=\"dataframe\">\n",
       "  <thead>\n",
       "    <tr style=\"text-align: right;\">\n",
       "      <th></th>\n",
       "      <th>CalYear</th>\n",
       "      <th>Employee_Name</th>\n",
       "      <th>Department</th>\n",
       "      <th>jobTitle</th>\n",
       "      <th>Annual_Rate</th>\n",
       "      <th>Regular_Rate</th>\n",
       "      <th>Overtime_Rate</th>\n",
       "      <th>Incentive_Allowance</th>\n",
       "      <th>Other</th>\n",
       "      <th>YTD_Total</th>\n",
       "      <th>ObjectId</th>\n",
       "    </tr>\n",
       "  </thead>\n",
       "  <tbody>\n",
       "    <tr>\n",
       "      <th>40688</th>\n",
       "      <td>2024</td>\n",
       "      <td>Vogedes, Robert Shane</td>\n",
       "      <td>Parks &amp; Recreation</td>\n",
       "      <td>Parks &amp; Rec. Supervisor I</td>\n",
       "      <td>55328.00</td>\n",
       "      <td>12065.98</td>\n",
       "      <td>508.96</td>\n",
       "      <td>0.0</td>\n",
       "      <td>NaN</td>\n",
       "      <td>12574.94</td>\n",
       "      <td>40689</td>\n",
       "    </tr>\n",
       "    <tr>\n",
       "      <th>40689</th>\n",
       "      <td>2024</td>\n",
       "      <td>Shea, Madison</td>\n",
       "      <td>Codes &amp; Regulations</td>\n",
       "      <td>Administrative Specialist CU</td>\n",
       "      <td>35838.40</td>\n",
       "      <td>8235.97</td>\n",
       "      <td>25.87</td>\n",
       "      <td>0.0</td>\n",
       "      <td>NaN</td>\n",
       "      <td>8261.84</td>\n",
       "      <td>40690</td>\n",
       "    </tr>\n",
       "    <tr>\n",
       "      <th>40690</th>\n",
       "      <td>2024</td>\n",
       "      <td>Cox, Destiny</td>\n",
       "      <td>Parks &amp; Recreation</td>\n",
       "      <td>Parks &amp; Rec. Aide</td>\n",
       "      <td>34632.00</td>\n",
       "      <td>7525.90</td>\n",
       "      <td>0.00</td>\n",
       "      <td>0.0</td>\n",
       "      <td>NaN</td>\n",
       "      <td>7525.90</td>\n",
       "      <td>40691</td>\n",
       "    </tr>\n",
       "    <tr>\n",
       "      <th>40691</th>\n",
       "      <td>2024</td>\n",
       "      <td>Campbell, Madisyn</td>\n",
       "      <td>Metro Animal Services</td>\n",
       "      <td>Animal Adoption Coord U310</td>\n",
       "      <td>34923.20</td>\n",
       "      <td>268.64</td>\n",
       "      <td>0.00</td>\n",
       "      <td>0.0</td>\n",
       "      <td>NaN</td>\n",
       "      <td>268.64</td>\n",
       "      <td>40692</td>\n",
       "    </tr>\n",
       "    <tr>\n",
       "      <th>40692</th>\n",
       "      <td>2024</td>\n",
       "      <td>Kim, Janice</td>\n",
       "      <td>Economic Development</td>\n",
       "      <td>Economic Development Coordinator</td>\n",
       "      <td>74148.67</td>\n",
       "      <td>14217.88</td>\n",
       "      <td>0.00</td>\n",
       "      <td>0.0</td>\n",
       "      <td>NaN</td>\n",
       "      <td>14217.88</td>\n",
       "      <td>40693</td>\n",
       "    </tr>\n",
       "  </tbody>\n",
       "</table>\n",
       "</div>"
      ],
      "text/plain": [
       "       CalYear          Employee_Name             Department  \\\n",
       "40688     2024  Vogedes, Robert Shane     Parks & Recreation   \n",
       "40689     2024          Shea, Madison    Codes & Regulations   \n",
       "40690     2024           Cox, Destiny     Parks & Recreation   \n",
       "40691     2024      Campbell, Madisyn  Metro Animal Services   \n",
       "40692     2024            Kim, Janice   Economic Development   \n",
       "\n",
       "                               jobTitle  Annual_Rate  Regular_Rate  \\\n",
       "40688         Parks & Rec. Supervisor I     55328.00      12065.98   \n",
       "40689      Administrative Specialist CU     35838.40       8235.97   \n",
       "40690                 Parks & Rec. Aide     34632.00       7525.90   \n",
       "40691        Animal Adoption Coord U310     34923.20        268.64   \n",
       "40692  Economic Development Coordinator     74148.67      14217.88   \n",
       "\n",
       "       Overtime_Rate  Incentive_Allowance  Other  YTD_Total  ObjectId  \n",
       "40688         508.96                  0.0    NaN   12574.94     40689  \n",
       "40689          25.87                  0.0    NaN    8261.84     40690  \n",
       "40690           0.00                  0.0    NaN    7525.90     40691  \n",
       "40691           0.00                  0.0    NaN     268.64     40692  \n",
       "40692           0.00                  0.0    NaN   14217.88     40693  "
      ]
     },
     "execution_count": 32,
     "metadata": {},
     "output_type": "execute_result"
    }
   ],
   "source": [
    "df.tail()"
   ]
  },
  {
   "cell_type": "markdown",
   "metadata": {},
   "source": [
    "Find the shape of the dataframe "
   ]
  },
  {
   "cell_type": "code",
   "execution_count": 33,
   "metadata": {},
   "outputs": [
    {
     "data": {
      "text/plain": [
       "(40693, 11)"
      ]
     },
     "execution_count": 33,
     "metadata": {},
     "output_type": "execute_result"
    }
   ],
   "source": [
    "df.shape"
   ]
  },
  {
   "cell_type": "markdown",
   "metadata": {},
   "source": [
    "Use the describe function to gain some insights to our data. "
   ]
  },
  {
   "cell_type": "code",
   "execution_count": 34,
   "metadata": {},
   "outputs": [
    {
     "data": {
      "text/html": [
       "<div>\n",
       "<style scoped>\n",
       "    .dataframe tbody tr th:only-of-type {\n",
       "        vertical-align: middle;\n",
       "    }\n",
       "\n",
       "    .dataframe tbody tr th {\n",
       "        vertical-align: top;\n",
       "    }\n",
       "\n",
       "    .dataframe thead th {\n",
       "        text-align: right;\n",
       "    }\n",
       "</style>\n",
       "<table border=\"1\" class=\"dataframe\">\n",
       "  <thead>\n",
       "    <tr style=\"text-align: right;\">\n",
       "      <th></th>\n",
       "      <th>CalYear</th>\n",
       "      <th>Annual_Rate</th>\n",
       "      <th>Regular_Rate</th>\n",
       "      <th>Overtime_Rate</th>\n",
       "      <th>Incentive_Allowance</th>\n",
       "      <th>Other</th>\n",
       "      <th>YTD_Total</th>\n",
       "      <th>ObjectId</th>\n",
       "    </tr>\n",
       "  </thead>\n",
       "  <tbody>\n",
       "    <tr>\n",
       "      <th>count</th>\n",
       "      <td>40693.000000</td>\n",
       "      <td>40693.000000</td>\n",
       "      <td>40693.000000</td>\n",
       "      <td>40693.000000</td>\n",
       "      <td>40693.000000</td>\n",
       "      <td>0.0</td>\n",
       "      <td>40693.000000</td>\n",
       "      <td>40693.000000</td>\n",
       "    </tr>\n",
       "    <tr>\n",
       "      <th>mean</th>\n",
       "      <td>2021.524169</td>\n",
       "      <td>53132.839383</td>\n",
       "      <td>41221.117862</td>\n",
       "      <td>5980.850174</td>\n",
       "      <td>2233.815466</td>\n",
       "      <td>NaN</td>\n",
       "      <td>50473.511014</td>\n",
       "      <td>20347.000000</td>\n",
       "    </tr>\n",
       "    <tr>\n",
       "      <th>std</th>\n",
       "      <td>1.717070</td>\n",
       "      <td>23803.935860</td>\n",
       "      <td>25291.809748</td>\n",
       "      <td>10923.917137</td>\n",
       "      <td>3973.567322</td>\n",
       "      <td>NaN</td>\n",
       "      <td>32605.896611</td>\n",
       "      <td>11747.201589</td>\n",
       "    </tr>\n",
       "    <tr>\n",
       "      <th>min</th>\n",
       "      <td>2019.000000</td>\n",
       "      <td>0.000000</td>\n",
       "      <td>-320.640000</td>\n",
       "      <td>-282.600000</td>\n",
       "      <td>-2500.000000</td>\n",
       "      <td>NaN</td>\n",
       "      <td>-320.640000</td>\n",
       "      <td>1.000000</td>\n",
       "    </tr>\n",
       "    <tr>\n",
       "      <th>25%</th>\n",
       "      <td>2020.000000</td>\n",
       "      <td>39187.200000</td>\n",
       "      <td>23667.200000</td>\n",
       "      <td>0.000000</td>\n",
       "      <td>0.000000</td>\n",
       "      <td>NaN</td>\n",
       "      <td>26474.710000</td>\n",
       "      <td>10174.000000</td>\n",
       "    </tr>\n",
       "    <tr>\n",
       "      <th>50%</th>\n",
       "      <td>2022.000000</td>\n",
       "      <td>51168.000000</td>\n",
       "      <td>41965.440000</td>\n",
       "      <td>623.240000</td>\n",
       "      <td>0.000000</td>\n",
       "      <td>NaN</td>\n",
       "      <td>49097.430000</td>\n",
       "      <td>20347.000000</td>\n",
       "    </tr>\n",
       "    <tr>\n",
       "      <th>75%</th>\n",
       "      <td>2023.000000</td>\n",
       "      <td>64272.000000</td>\n",
       "      <td>56065.400000</td>\n",
       "      <td>6828.800000</td>\n",
       "      <td>2991.290000</td>\n",
       "      <td>NaN</td>\n",
       "      <td>70809.780000</td>\n",
       "      <td>30520.000000</td>\n",
       "    </tr>\n",
       "    <tr>\n",
       "      <th>max</th>\n",
       "      <td>2024.000000</td>\n",
       "      <td>520000.000000</td>\n",
       "      <td>235572.270000</td>\n",
       "      <td>125713.910000</td>\n",
       "      <td>43853.330000</td>\n",
       "      <td>NaN</td>\n",
       "      <td>262051.220000</td>\n",
       "      <td>40693.000000</td>\n",
       "    </tr>\n",
       "  </tbody>\n",
       "</table>\n",
       "</div>"
      ],
      "text/plain": [
       "            CalYear    Annual_Rate   Regular_Rate  Overtime_Rate  \\\n",
       "count  40693.000000   40693.000000   40693.000000   40693.000000   \n",
       "mean    2021.524169   53132.839383   41221.117862    5980.850174   \n",
       "std        1.717070   23803.935860   25291.809748   10923.917137   \n",
       "min     2019.000000       0.000000    -320.640000    -282.600000   \n",
       "25%     2020.000000   39187.200000   23667.200000       0.000000   \n",
       "50%     2022.000000   51168.000000   41965.440000     623.240000   \n",
       "75%     2023.000000   64272.000000   56065.400000    6828.800000   \n",
       "max     2024.000000  520000.000000  235572.270000  125713.910000   \n",
       "\n",
       "       Incentive_Allowance  Other      YTD_Total      ObjectId  \n",
       "count         40693.000000    0.0   40693.000000  40693.000000  \n",
       "mean           2233.815466    NaN   50473.511014  20347.000000  \n",
       "std            3973.567322    NaN   32605.896611  11747.201589  \n",
       "min           -2500.000000    NaN    -320.640000      1.000000  \n",
       "25%               0.000000    NaN   26474.710000  10174.000000  \n",
       "50%               0.000000    NaN   49097.430000  20347.000000  \n",
       "75%            2991.290000    NaN   70809.780000  30520.000000  \n",
       "max           43853.330000    NaN  262051.220000  40693.000000  "
      ]
     },
     "execution_count": 34,
     "metadata": {},
     "output_type": "execute_result"
    }
   ],
   "source": [
    "df.describe()"
   ]
  },
  {
   "cell_type": "markdown",
   "metadata": {},
   "source": [
    "Find the unique vales in the CalYear column"
   ]
  },
  {
   "cell_type": "code",
   "execution_count": 35,
   "metadata": {},
   "outputs": [
    {
     "data": {
      "text/plain": [
       "array([2020, 2022, 2019, 2023, 2021, 2024])"
      ]
     },
     "execution_count": 35,
     "metadata": {},
     "output_type": "execute_result"
    }
   ],
   "source": [
    "df['CalYear'].unique()"
   ]
  },
  {
   "cell_type": "markdown",
   "metadata": {},
   "source": [
    "Filter the DataFrame to include only rows where the `CalYear` is `2024`, and assign the result to a variable named `df_2024`."
   ]
  },
  {
   "cell_type": "code",
   "execution_count": 36,
   "metadata": {},
   "outputs": [
    {
     "data": {
      "text/html": [
       "<div>\n",
       "<style scoped>\n",
       "    .dataframe tbody tr th:only-of-type {\n",
       "        vertical-align: middle;\n",
       "    }\n",
       "\n",
       "    .dataframe tbody tr th {\n",
       "        vertical-align: top;\n",
       "    }\n",
       "\n",
       "    .dataframe thead th {\n",
       "        text-align: right;\n",
       "    }\n",
       "</style>\n",
       "<table border=\"1\" class=\"dataframe\">\n",
       "  <thead>\n",
       "    <tr style=\"text-align: right;\">\n",
       "      <th></th>\n",
       "      <th>CalYear</th>\n",
       "      <th>Employee_Name</th>\n",
       "      <th>Department</th>\n",
       "      <th>jobTitle</th>\n",
       "      <th>Annual_Rate</th>\n",
       "      <th>Regular_Rate</th>\n",
       "      <th>Overtime_Rate</th>\n",
       "      <th>Incentive_Allowance</th>\n",
       "      <th>Other</th>\n",
       "      <th>YTD_Total</th>\n",
       "      <th>ObjectId</th>\n",
       "    </tr>\n",
       "  </thead>\n",
       "  <tbody>\n",
       "    <tr>\n",
       "      <th>33646</th>\n",
       "      <td>2024</td>\n",
       "      <td>Summers, William E</td>\n",
       "      <td>OMB Finance</td>\n",
       "      <td>Board Member</td>\n",
       "      <td>5200.0</td>\n",
       "      <td>1400.0</td>\n",
       "      <td>0.0</td>\n",
       "      <td>0.0</td>\n",
       "      <td>NaN</td>\n",
       "      <td>1400.0</td>\n",
       "      <td>33647</td>\n",
       "    </tr>\n",
       "  </tbody>\n",
       "</table>\n",
       "</div>"
      ],
      "text/plain": [
       "       CalYear       Employee_Name   Department      jobTitle  Annual_Rate  \\\n",
       "33646     2024  Summers, William E  OMB Finance  Board Member       5200.0   \n",
       "\n",
       "       Regular_Rate  Overtime_Rate  Incentive_Allowance  Other  YTD_Total  \\\n",
       "33646        1400.0            0.0                  0.0    NaN     1400.0   \n",
       "\n",
       "       ObjectId  \n",
       "33646     33647  "
      ]
     },
     "execution_count": 36,
     "metadata": {},
     "output_type": "execute_result"
    }
   ],
   "source": [
    "df_2024 = df[df['CalYear'] == 2024]\n",
    "df_2024.head(1)"
   ]
  },
  {
   "cell_type": "markdown",
   "metadata": {},
   "source": [
    "This will test to see if you filtered the dataframe correctly. "
   ]
  },
  {
   "cell_type": "code",
   "execution_count": 37,
   "metadata": {},
   "outputs": [
    {
     "name": "stdout",
     "output_type": "stream",
     "text": [
      "Congratulations, you dropped the correct columns!\n"
     ]
    }
   ],
   "source": [
    "try:\n",
    "    if 'df_2024' in globals():\n",
    "        if not df_2024[df_2024['CalYear'] != 2024].empty:\n",
    "            years = df_2024['CalYear'].unique()\n",
    "            print(f\"Your dataframe still has {years} in the CalYear column.\")\n",
    "        else:\n",
    "            print(\"Congratulations, you dropped the correct columns!\")\n",
    "    else:\n",
    "        print(\"The dataframe 'df_2024' is not defined. Did you name the dataframe correctly?\")       \n",
    "except NameError:\n",
    "    print(\"Did you name the dataframe correctly?\")"
   ]
  },
  {
   "cell_type": "markdown",
   "metadata": {},
   "source": [
    "Drop the columns in the `cols_to_drop` list. "
   ]
  },
  {
   "cell_type": "code",
   "execution_count": 38,
   "metadata": {},
   "outputs": [
    {
     "data": {
      "text/html": [
       "<div>\n",
       "<style scoped>\n",
       "    .dataframe tbody tr th:only-of-type {\n",
       "        vertical-align: middle;\n",
       "    }\n",
       "\n",
       "    .dataframe tbody tr th {\n",
       "        vertical-align: top;\n",
       "    }\n",
       "\n",
       "    .dataframe thead th {\n",
       "        text-align: right;\n",
       "    }\n",
       "</style>\n",
       "<table border=\"1\" class=\"dataframe\">\n",
       "  <thead>\n",
       "    <tr style=\"text-align: right;\">\n",
       "      <th></th>\n",
       "      <th>CalYear</th>\n",
       "      <th>Employee_Name</th>\n",
       "      <th>Department</th>\n",
       "      <th>jobTitle</th>\n",
       "      <th>Regular_Rate</th>\n",
       "      <th>YTD_Total</th>\n",
       "    </tr>\n",
       "  </thead>\n",
       "  <tbody>\n",
       "    <tr>\n",
       "      <th>33646</th>\n",
       "      <td>2024</td>\n",
       "      <td>Summers, William E</td>\n",
       "      <td>OMB Finance</td>\n",
       "      <td>Board Member</td>\n",
       "      <td>1400.0</td>\n",
       "      <td>1400.0</td>\n",
       "    </tr>\n",
       "  </tbody>\n",
       "</table>\n",
       "</div>"
      ],
      "text/plain": [
       "       CalYear       Employee_Name   Department      jobTitle  Regular_Rate  \\\n",
       "33646     2024  Summers, William E  OMB Finance  Board Member        1400.0   \n",
       "\n",
       "       YTD_Total  \n",
       "33646     1400.0  "
      ]
     },
     "execution_count": 38,
     "metadata": {},
     "output_type": "execute_result"
    }
   ],
   "source": [
    "cols_to_drop = ['Annual_Rate', 'Overtime_Rate', 'Incentive_Allowance', 'Other', 'ObjectId']\n",
    "\n",
    "df_2024 = df_2024.drop(columns=cols_to_drop)\n",
    "df_2024.head(1)"
   ]
  },
  {
   "cell_type": "markdown",
   "metadata": {},
   "source": [
    "This will check to see if the columns got dropped or not."
   ]
  },
  {
   "cell_type": "code",
   "execution_count": 39,
   "metadata": {},
   "outputs": [
    {
     "name": "stdout",
     "output_type": "stream",
     "text": [
      "Congratulations, all specified columns were successfully dropped!\n"
     ]
    }
   ],
   "source": [
    "try:\n",
    "    if 'df_2024' in globals():\n",
    "        cols_to_drop = ['Annual_Rate', 'Overtime_Rate', 'Incentive_Allowance', 'Other', 'ObjectId']\n",
    "        remaining_cols = [col for col in cols_to_drop if col in df_2024.columns]\n",
    "        if remaining_cols:\n",
    "            print(f\"The following columns were not dropped: {remaining_cols}\")\n",
    "        else:\n",
    "            print(\"Congratulations, all specified columns were successfully dropped!\")\n",
    "    else:\n",
    "        print(\"The dataframe 'df_2024' is not defined. Did you name the dataframe correctly?\")\n",
    "        \n",
    "except NameError:\n",
    "    print(\"Did you name the dataframe correctly?\")\n"
   ]
  },
  {
   "cell_type": "markdown",
   "metadata": {},
   "source": [
    "Remove rows from `df_2024` where the `YTD_Total` column contains either null values or zeros."
   ]
  },
  {
   "cell_type": "code",
   "execution_count": 40,
   "metadata": {},
   "outputs": [],
   "source": [
    "df_2024 = df_2024[df_2024['YTD_Total'].notna() & (df_2024['YTD_Total'] != 0)]"
   ]
  },
  {
   "cell_type": "markdown",
   "metadata": {},
   "source": [
    "This will test to see if you removed rows with NaN or 0 values in 'YTD_Total'."
   ]
  },
  {
   "cell_type": "code",
   "execution_count": 41,
   "metadata": {},
   "outputs": [
    {
     "name": "stdout",
     "output_type": "stream",
     "text": [
      "Congratulations, you've successfully removed rows with NaN or 0 values in 'YTD_Total'!\n"
     ]
    }
   ],
   "source": [
    "try:\n",
    "    if 'df_2024' in globals():\n",
    "        if df_2024['YTD_Total'].isna().any():\n",
    "            print(\"There are still NaN values in the 'YTD_Total' column.\")\n",
    "        elif (df_2024['YTD_Total'] == 0).any():\n",
    "            print(\"There are still rows with 'YTD_Total' equal to 0.\")\n",
    "        else:\n",
    "            print(\"Congratulations, you've successfully removed rows with NaN or 0 values in 'YTD_Total'!\")\n",
    "    \n",
    "    else:\n",
    "        print(\"The dataframe 'df_2024' is not defined. Did you name the dataframe correctly?\")\n",
    "        \n",
    "except NameError:\n",
    "    print(\"Did you name the dataframe correctly?\")\n"
   ]
  },
  {
   "cell_type": "markdown",
   "metadata": {},
   "source": [
    "If all the above was done correctly the below code will run and plot our findings of annual salary vs YTD salary spend. "
   ]
  },
  {
   "cell_type": "code",
   "execution_count": 42,
   "metadata": {},
   "outputs": [
    {
     "data": {
      "image/png": "[encoded data removed]",
      "text/plain": [
       "<Figure size 1400x600 with 1 Axes>"
      ]
     },
     "metadata": {},
     "output_type": "display_data"
    }
   ],
   "source": [
    "grouped_df = df_2024.groupby('Department')[['Regular_Rate', 'YTD_Total']].sum()\n",
    "grouped_df = grouped_df.sort_values(by='Regular_Rate', ascending=False).head(5)\n",
    "\n",
    "fig, ax = plt.subplots(figsize=(14, 6))\n",
    "\n",
    "grouped_df.plot(kind='bar', stacked=True, ax=ax, color=['grey', 'red'], legend=True)\n",
    "\n",
    "ax.set_title('Annual Salary vs YTD Total by Department')\n",
    "ax.set_xlabel('Department')\n",
    "ax.set_ylabel('Value')\n",
    "\n",
    "def millions(x, pos):\n",
    "    return '%1.1fM' % (x * 1e-6)\n",
    "\n",
    "ax.yaxis.set_major_formatter(ticker.FuncFormatter(millions))\n",
    "ax.yaxis.set_major_locator(ticker.MaxNLocator(integer=True))\n",
    "\n",
    "plt.xticks(rotation=45, ha='right')\n",
    "\n",
    "ax.set_xticks(range(len(grouped_df)))\n",
    "ax.set_xticklabels(grouped_df.index, rotation=45, ha='right')\n",
    "\n",
    "y_min, y_max = grouped_df.min().min() * 0.9, grouped_df.max().max() * 1.1\n",
    "ax.set_ylim([y_min, y_max])\n",
    "\n",
    "handles, labels = ax.get_legend_handles_labels()\n",
    "ax.legend([handles[0], handles[1]], ['Salary', 'YTD Total'])\n",
    "\n",
    "plt.grid(True)\n",
    "plt.tight_layout()\n",
    "plt.show()"
   ]
  }
 ],
 "metadata": {
  "kernelspec": {
   "display_name": "venv",
   "language": "python",
   "name": "python3"
  },
  "language_info": {
   "codemirror_mode": {
    "name": "ipython",
    "version": 3
   },
   "file_extension": ".py",
   "mimetype": "text/x-python",
   "name": "python",
   "nbconvert_exporter": "python",
   "pygments_lexer": "ipython3",
   "version": "3.12.4"
  }
 },
 "nbformat": 4,
 "nbformat_minor": 2
}
