{
 "cells": [
  {
   "cell_type": "markdown",
   "metadata": {},
   "source": [
    "![Alt text](image/banner.webp)"
   ]
  },
  {
   "cell_type": "markdown",
   "metadata": {},
   "source": [
    "### Welcome to the Code:You\n",
    "#### Module 2 Knowledge Check.\n",
    "\n",
    "In the cell below, we will import the necessary packages to ensure you have everything you need to complete this assignment. If these packages are not already installed, they will be installed automatically."
   ]
  },
  {
   "cell_type": "code",
   "execution_count": 1,
   "metadata": {},
   "outputs": [
    {
     "name": "stdout",
     "output_type": "stream",
     "text": [
      "pandas is already installed.\n",
      "matplotlib is already installed.\n"
     ]
    }
   ],
   "source": [
    "import subprocess\n",
    "import sys\n",
    "\n",
    "def install_and_import(package):\n",
    "    try:\n",
    "        __import__(package)\n",
    "        print(f\"{package} is already installed.\")\n",
    "    except ImportError:\n",
    "        print(f\"{package} not found. Installing {package}...\")\n",
    "        subprocess.check_call([sys.executable, \"-m\", \"pip\", \"install\", package])\n",
    "        __import__(package)\n",
    "        print(f\"{package} has been installed.\")\n",
    "\n",
    "install_and_import('pandas')\n",
    "install_and_import('matplotlib')\n",
    "\n",
    "import pandas as pd\n",
    "import matplotlib.pyplot as plt\n",
    "import matplotlib.ticker as ticker\n"
   ]
  },
  {
   "cell_type": "markdown",
   "metadata": {},
   "source": [
    "The following block executes `api_call.py`, which retrieves data from the Louisville Open Data API. The data is then saved as a CSV file in the data folder. It could take a couple mins to run."
   ]
  },
  {
   "cell_type": "code",
   "execution_count": 2,
   "metadata": {},
   "outputs": [],
   "source": [
    "from api_call import data_creation\n",
    "\n",
    "# data_creation()"
   ]
  },
  {
   "cell_type": "markdown",
   "metadata": {},
   "source": [
    "Read in the data using the variable df"
   ]
  },
  {
   "cell_type": "code",
   "execution_count": 3,
   "metadata": {},
   "outputs": [],
   "source": [
    "df = pd.read_csv(\"data/salary_data.csv\", low_memory=False)"
   ]
  },
  {
   "cell_type": "markdown",
   "metadata": {},
   "source": [
    "Display the first 5 rows of data. "
   ]
  },
  {
   "cell_type": "code",
   "execution_count": 4,
   "metadata": {},
   "outputs": [
    {
     "data": {
      "text/html": [
       "<div>\n",
       "<style scoped>\n",
       "    .dataframe tbody tr th:only-of-type {\n",
       "        vertical-align: middle;\n",
       "    }\n",
       "\n",
       "    .dataframe tbody tr th {\n",
       "        vertical-align: top;\n",
       "    }\n",
       "\n",
       "    .dataframe thead th {\n",
       "        text-align: right;\n",
       "    }\n",
       "</style>\n",
       "<table border=\"1\" class=\"dataframe\">\n",
       "  <thead>\n",
       "    <tr style=\"text-align: right;\">\n",
       "      <th></th>\n",
       "      <th>CalYear</th>\n",
       "      <th>Employee_Name</th>\n",
       "      <th>Department</th>\n",
       "      <th>jobTitle</th>\n",
       "      <th>Annual_Rate</th>\n",
       "      <th>Regular_Rate</th>\n",
       "      <th>Overtime_Rate</th>\n",
       "      <th>Incentive_Allowance</th>\n",
       "      <th>Other</th>\n",
       "      <th>YTD_Total</th>\n",
       "      <th>ObjectId</th>\n",
       "    </tr>\n",
       "  </thead>\n",
       "  <tbody>\n",
       "    <tr>\n",
       "      <th>0</th>\n",
       "      <td>2019</td>\n",
       "      <td>Jones, Steven</td>\n",
       "      <td>Inspections, Permits &amp; License</td>\n",
       "      <td>PR/B/M Inspector II</td>\n",
       "      <td>48214.4</td>\n",
       "      <td>37882.10</td>\n",
       "      <td>0.00</td>\n",
       "      <td>0.00</td>\n",
       "      <td>NaN</td>\n",
       "      <td>42052.65</td>\n",
       "      <td>1</td>\n",
       "    </tr>\n",
       "    <tr>\n",
       "      <th>1</th>\n",
       "      <td>2019</td>\n",
       "      <td>Martin, David</td>\n",
       "      <td>Library</td>\n",
       "      <td>Library Page L/U</td>\n",
       "      <td>27331.2</td>\n",
       "      <td>27331.20</td>\n",
       "      <td>0.00</td>\n",
       "      <td>0.00</td>\n",
       "      <td>NaN</td>\n",
       "      <td>27331.20</td>\n",
       "      <td>2</td>\n",
       "    </tr>\n",
       "    <tr>\n",
       "      <th>2</th>\n",
       "      <td>2019</td>\n",
       "      <td>Bratcher, Elaine</td>\n",
       "      <td>Louisville Metro Police</td>\n",
       "      <td>Clerk Typist II-Police</td>\n",
       "      <td>35256.0</td>\n",
       "      <td>35065.61</td>\n",
       "      <td>0.00</td>\n",
       "      <td>1563.12</td>\n",
       "      <td>NaN</td>\n",
       "      <td>37171.13</td>\n",
       "      <td>3</td>\n",
       "    </tr>\n",
       "    <tr>\n",
       "      <th>3</th>\n",
       "      <td>2019</td>\n",
       "      <td>Hamilton, Edward</td>\n",
       "      <td>Mayor's Office</td>\n",
       "      <td>Chief of Public Services</td>\n",
       "      <td>129511.2</td>\n",
       "      <td>92152.20</td>\n",
       "      <td>0.00</td>\n",
       "      <td>0.00</td>\n",
       "      <td>NaN</td>\n",
       "      <td>112077.00</td>\n",
       "      <td>4</td>\n",
       "    </tr>\n",
       "    <tr>\n",
       "      <th>4</th>\n",
       "      <td>2019</td>\n",
       "      <td>Jackson, Nila</td>\n",
       "      <td>Louisville Metro Police</td>\n",
       "      <td>Traffic Guard II</td>\n",
       "      <td>20592.0</td>\n",
       "      <td>20888.24</td>\n",
       "      <td>2713.79</td>\n",
       "      <td>900.00</td>\n",
       "      <td>NaN</td>\n",
       "      <td>24502.03</td>\n",
       "      <td>5</td>\n",
       "    </tr>\n",
       "  </tbody>\n",
       "</table>\n",
       "</div>"
      ],
      "text/plain": [
       "   CalYear     Employee_Name                      Department  \\\n",
       "0     2019     Jones, Steven  Inspections, Permits & License   \n",
       "1     2019     Martin, David                         Library   \n",
       "2     2019  Bratcher, Elaine         Louisville Metro Police   \n",
       "3     2019  Hamilton, Edward                  Mayor's Office   \n",
       "4     2019     Jackson, Nila         Louisville Metro Police   \n",
       "\n",
       "                   jobTitle  Annual_Rate  Regular_Rate  Overtime_Rate  \\\n",
       "0       PR/B/M Inspector II      48214.4      37882.10           0.00   \n",
       "1          Library Page L/U      27331.2      27331.20           0.00   \n",
       "2    Clerk Typist II-Police      35256.0      35065.61           0.00   \n",
       "3  Chief of Public Services     129511.2      92152.20           0.00   \n",
       "4          Traffic Guard II      20592.0      20888.24        2713.79   \n",
       "\n",
       "   Incentive_Allowance  Other  YTD_Total  ObjectId  \n",
       "0                 0.00    NaN   42052.65         1  \n",
       "1                 0.00    NaN   27331.20         2  \n",
       "2              1563.12    NaN   37171.13         3  \n",
       "3                 0.00    NaN  112077.00         4  \n",
       "4               900.00    NaN   24502.03         5  "
      ]
     },
     "execution_count": 4,
     "metadata": {},
     "output_type": "execute_result"
    }
   ],
   "source": [
    "df.head()"
   ]
  },
  {
   "cell_type": "markdown",
   "metadata": {},
   "source": [
    "Display the last 5 rows of data. "
   ]
  },
  {
   "cell_type": "code",
   "execution_count": 5,
   "metadata": {},
   "outputs": [
    {
     "data": {
      "text/html": [
       "<div>\n",
       "<style scoped>\n",
       "    .dataframe tbody tr th:only-of-type {\n",
       "        vertical-align: middle;\n",
       "    }\n",
       "\n",
       "    .dataframe tbody tr th {\n",
       "        vertical-align: top;\n",
       "    }\n",
       "\n",
       "    .dataframe thead th {\n",
       "        text-align: right;\n",
       "    }\n",
       "</style>\n",
       "<table border=\"1\" class=\"dataframe\">\n",
       "  <thead>\n",
       "    <tr style=\"text-align: right;\">\n",
       "      <th></th>\n",
       "      <th>CalYear</th>\n",
       "      <th>Employee_Name</th>\n",
       "      <th>Department</th>\n",
       "      <th>jobTitle</th>\n",
       "      <th>Annual_Rate</th>\n",
       "      <th>Regular_Rate</th>\n",
       "      <th>Overtime_Rate</th>\n",
       "      <th>Incentive_Allowance</th>\n",
       "      <th>Other</th>\n",
       "      <th>YTD_Total</th>\n",
       "      <th>ObjectId</th>\n",
       "    </tr>\n",
       "  </thead>\n",
       "  <tbody>\n",
       "    <tr>\n",
       "      <th>40658</th>\n",
       "      <td>2021</td>\n",
       "      <td>Nash, DraShawn</td>\n",
       "      <td>Metro Corrections</td>\n",
       "      <td>Correction Officer Recruit</td>\n",
       "      <td>36212.8</td>\n",
       "      <td>4178.41</td>\n",
       "      <td>78.35</td>\n",
       "      <td>0.0</td>\n",
       "      <td>NaN</td>\n",
       "      <td>4256.76</td>\n",
       "      <td>40659</td>\n",
       "    </tr>\n",
       "    <tr>\n",
       "      <th>40659</th>\n",
       "      <td>2021</td>\n",
       "      <td>Ransom, JaQuan</td>\n",
       "      <td>Solid Waste Management</td>\n",
       "      <td>Sanitation Tipper</td>\n",
       "      <td>37481.6</td>\n",
       "      <td>8505.45</td>\n",
       "      <td>4031.99</td>\n",
       "      <td>0.0</td>\n",
       "      <td>NaN</td>\n",
       "      <td>12537.44</td>\n",
       "      <td>40660</td>\n",
       "    </tr>\n",
       "    <tr>\n",
       "      <th>40660</th>\n",
       "      <td>2021</td>\n",
       "      <td>Cole, Adrian</td>\n",
       "      <td>Solid Waste Management</td>\n",
       "      <td>Sanitation Tipper</td>\n",
       "      <td>37481.6</td>\n",
       "      <td>4324.80</td>\n",
       "      <td>1961.94</td>\n",
       "      <td>0.0</td>\n",
       "      <td>NaN</td>\n",
       "      <td>6286.74</td>\n",
       "      <td>40661</td>\n",
       "    </tr>\n",
       "    <tr>\n",
       "      <th>40661</th>\n",
       "      <td>2021</td>\n",
       "      <td>Nalley, Matthew</td>\n",
       "      <td>Parks &amp; Recreation</td>\n",
       "      <td>Recreation Assistant P/U</td>\n",
       "      <td>33800.0</td>\n",
       "      <td>3900.00</td>\n",
       "      <td>0.00</td>\n",
       "      <td>0.0</td>\n",
       "      <td>NaN</td>\n",
       "      <td>3900.00</td>\n",
       "      <td>40662</td>\n",
       "    </tr>\n",
       "    <tr>\n",
       "      <th>40662</th>\n",
       "      <td>2021</td>\n",
       "      <td>Sullivan, Scott</td>\n",
       "      <td>Parks &amp; Recreation</td>\n",
       "      <td>Golf Operations Supervisor I</td>\n",
       "      <td>40331.2</td>\n",
       "      <td>4653.60</td>\n",
       "      <td>0.00</td>\n",
       "      <td>0.0</td>\n",
       "      <td>NaN</td>\n",
       "      <td>4653.60</td>\n",
       "      <td>40663</td>\n",
       "    </tr>\n",
       "  </tbody>\n",
       "</table>\n",
       "</div>"
      ],
      "text/plain": [
       "       CalYear    Employee_Name              Department  \\\n",
       "40658     2021   Nash, DraShawn       Metro Corrections   \n",
       "40659     2021   Ransom, JaQuan  Solid Waste Management   \n",
       "40660     2021     Cole, Adrian  Solid Waste Management   \n",
       "40661     2021  Nalley, Matthew      Parks & Recreation   \n",
       "40662     2021  Sullivan, Scott      Parks & Recreation   \n",
       "\n",
       "                           jobTitle  Annual_Rate  Regular_Rate  Overtime_Rate  \\\n",
       "40658    Correction Officer Recruit      36212.8       4178.41          78.35   \n",
       "40659             Sanitation Tipper      37481.6       8505.45        4031.99   \n",
       "40660             Sanitation Tipper      37481.6       4324.80        1961.94   \n",
       "40661      Recreation Assistant P/U      33800.0       3900.00           0.00   \n",
       "40662  Golf Operations Supervisor I      40331.2       4653.60           0.00   \n",
       "\n",
       "       Incentive_Allowance  Other  YTD_Total  ObjectId  \n",
       "40658                  0.0    NaN    4256.76     40659  \n",
       "40659                  0.0    NaN   12537.44     40660  \n",
       "40660                  0.0    NaN    6286.74     40661  \n",
       "40661                  0.0    NaN    3900.00     40662  \n",
       "40662                  0.0    NaN    4653.60     40663  "
      ]
     },
     "execution_count": 5,
     "metadata": {},
     "output_type": "execute_result"
    }
   ],
   "source": [
    "df.tail()"
   ]
  },
  {
   "cell_type": "markdown",
   "metadata": {},
   "source": [
    "Find the shape of the dataframe "
   ]
  },
  {
   "cell_type": "code",
   "execution_count": 6,
   "metadata": {},
   "outputs": [
    {
     "data": {
      "text/plain": [
       "(40663, 11)"
      ]
     },
     "execution_count": 6,
     "metadata": {},
     "output_type": "execute_result"
    }
   ],
   "source": [
    "df.shape"
   ]
  },
  {
   "cell_type": "markdown",
   "metadata": {},
   "source": [
    "Use the describe function to gain some insights to our data. "
   ]
  },
  {
   "cell_type": "code",
   "execution_count": 7,
   "metadata": {},
   "outputs": [
    {
     "data": {
      "text/html": [
       "<div>\n",
       "<style scoped>\n",
       "    .dataframe tbody tr th:only-of-type {\n",
       "        vertical-align: middle;\n",
       "    }\n",
       "\n",
       "    .dataframe tbody tr th {\n",
       "        vertical-align: top;\n",
       "    }\n",
       "\n",
       "    .dataframe thead th {\n",
       "        text-align: right;\n",
       "    }\n",
       "</style>\n",
       "<table border=\"1\" class=\"dataframe\">\n",
       "  <thead>\n",
       "    <tr style=\"text-align: right;\">\n",
       "      <th></th>\n",
       "      <th>CalYear</th>\n",
       "      <th>Annual_Rate</th>\n",
       "      <th>Regular_Rate</th>\n",
       "      <th>Overtime_Rate</th>\n",
       "      <th>Incentive_Allowance</th>\n",
       "      <th>Other</th>\n",
       "      <th>YTD_Total</th>\n",
       "      <th>ObjectId</th>\n",
       "    </tr>\n",
       "  </thead>\n",
       "  <tbody>\n",
       "    <tr>\n",
       "      <th>count</th>\n",
       "      <td>40663.000000</td>\n",
       "      <td>40663.000000</td>\n",
       "      <td>40663.000000</td>\n",
       "      <td>40663.000000</td>\n",
       "      <td>40663.000000</td>\n",
       "      <td>0.0</td>\n",
       "      <td>40663.000000</td>\n",
       "      <td>40663.000000</td>\n",
       "    </tr>\n",
       "    <tr>\n",
       "      <th>mean</th>\n",
       "      <td>2021.522342</td>\n",
       "      <td>53085.690898</td>\n",
       "      <td>40913.618357</td>\n",
       "      <td>5927.180539</td>\n",
       "      <td>2217.654347</td>\n",
       "      <td>NaN</td>\n",
       "      <td>50093.204813</td>\n",
       "      <td>20332.000000</td>\n",
       "    </tr>\n",
       "    <tr>\n",
       "      <th>std</th>\n",
       "      <td>1.716386</td>\n",
       "      <td>23796.933084</td>\n",
       "      <td>25210.273063</td>\n",
       "      <td>10845.641888</td>\n",
       "      <td>3951.158763</td>\n",
       "      <td>NaN</td>\n",
       "      <td>32494.515464</td>\n",
       "      <td>11738.541335</td>\n",
       "    </tr>\n",
       "    <tr>\n",
       "      <th>min</th>\n",
       "      <td>2019.000000</td>\n",
       "      <td>0.000000</td>\n",
       "      <td>-320.640000</td>\n",
       "      <td>-282.600000</td>\n",
       "      <td>-2500.000000</td>\n",
       "      <td>NaN</td>\n",
       "      <td>-320.640000</td>\n",
       "      <td>1.000000</td>\n",
       "    </tr>\n",
       "    <tr>\n",
       "      <th>25%</th>\n",
       "      <td>2020.000000</td>\n",
       "      <td>39062.400000</td>\n",
       "      <td>23242.100000</td>\n",
       "      <td>0.000000</td>\n",
       "      <td>0.000000</td>\n",
       "      <td>NaN</td>\n",
       "      <td>26141.900000</td>\n",
       "      <td>10166.500000</td>\n",
       "    </tr>\n",
       "    <tr>\n",
       "      <th>50%</th>\n",
       "      <td>2022.000000</td>\n",
       "      <td>51168.000000</td>\n",
       "      <td>41637.130000</td>\n",
       "      <td>619.240000</td>\n",
       "      <td>0.000000</td>\n",
       "      <td>NaN</td>\n",
       "      <td>48684.890000</td>\n",
       "      <td>20332.000000</td>\n",
       "    </tr>\n",
       "    <tr>\n",
       "      <th>75%</th>\n",
       "      <td>2023.000000</td>\n",
       "      <td>64147.200000</td>\n",
       "      <td>55670.410000</td>\n",
       "      <td>6780.665000</td>\n",
       "      <td>2884.340000</td>\n",
       "      <td>NaN</td>\n",
       "      <td>70323.445000</td>\n",
       "      <td>30497.500000</td>\n",
       "    </tr>\n",
       "    <tr>\n",
       "      <th>max</th>\n",
       "      <td>2024.000000</td>\n",
       "      <td>520000.000000</td>\n",
       "      <td>235572.270000</td>\n",
       "      <td>125713.910000</td>\n",
       "      <td>43853.330000</td>\n",
       "      <td>NaN</td>\n",
       "      <td>262051.220000</td>\n",
       "      <td>40663.000000</td>\n",
       "    </tr>\n",
       "  </tbody>\n",
       "</table>\n",
       "</div>"
      ],
      "text/plain": [
       "            CalYear    Annual_Rate   Regular_Rate  Overtime_Rate  \\\n",
       "count  40663.000000   40663.000000   40663.000000   40663.000000   \n",
       "mean    2021.522342   53085.690898   40913.618357    5927.180539   \n",
       "std        1.716386   23796.933084   25210.273063   10845.641888   \n",
       "min     2019.000000       0.000000    -320.640000    -282.600000   \n",
       "25%     2020.000000   39062.400000   23242.100000       0.000000   \n",
       "50%     2022.000000   51168.000000   41637.130000     619.240000   \n",
       "75%     2023.000000   64147.200000   55670.410000    6780.665000   \n",
       "max     2024.000000  520000.000000  235572.270000  125713.910000   \n",
       "\n",
       "       Incentive_Allowance  Other      YTD_Total      ObjectId  \n",
       "count         40663.000000    0.0   40663.000000  40663.000000  \n",
       "mean           2217.654347    NaN   50093.204813  20332.000000  \n",
       "std            3951.158763    NaN   32494.515464  11738.541335  \n",
       "min           -2500.000000    NaN    -320.640000      1.000000  \n",
       "25%               0.000000    NaN   26141.900000  10166.500000  \n",
       "50%               0.000000    NaN   48684.890000  20332.000000  \n",
       "75%            2884.340000    NaN   70323.445000  30497.500000  \n",
       "max           43853.330000    NaN  262051.220000  40663.000000  "
      ]
     },
     "execution_count": 7,
     "metadata": {},
     "output_type": "execute_result"
    }
   ],
   "source": [
    "df.describe()"
   ]
  },
  {
   "cell_type": "markdown",
   "metadata": {},
   "source": [
    "Find the unique vales in the CalYear column"
   ]
  },
  {
   "cell_type": "code",
   "execution_count": 8,
   "metadata": {},
   "outputs": [
    {
     "data": {
      "text/plain": [
       "array([2019, 2020, 2022, 2023, 2024, 2021])"
      ]
     },
     "execution_count": 8,
     "metadata": {},
     "output_type": "execute_result"
    }
   ],
   "source": [
    "df['CalYear'].unique()"
   ]
  },
  {
   "cell_type": "markdown",
   "metadata": {},
   "source": [
    "Filter the DataFrame to include only rows where the `CalYear` is `2024`, and assign the result to a variable named `df_2024`."
   ]
  },
  {
   "cell_type": "code",
   "execution_count": 9,
   "metadata": {},
   "outputs": [
    {
     "data": {
      "text/html": [
       "<div>\n",
       "<style scoped>\n",
       "    .dataframe tbody tr th:only-of-type {\n",
       "        vertical-align: middle;\n",
       "    }\n",
       "\n",
       "    .dataframe tbody tr th {\n",
       "        vertical-align: top;\n",
       "    }\n",
       "\n",
       "    .dataframe thead th {\n",
       "        text-align: right;\n",
       "    }\n",
       "</style>\n",
       "<table border=\"1\" class=\"dataframe\">\n",
       "  <thead>\n",
       "    <tr style=\"text-align: right;\">\n",
       "      <th></th>\n",
       "      <th>CalYear</th>\n",
       "      <th>Employee_Name</th>\n",
       "      <th>Department</th>\n",
       "      <th>jobTitle</th>\n",
       "      <th>Annual_Rate</th>\n",
       "      <th>Regular_Rate</th>\n",
       "      <th>Overtime_Rate</th>\n",
       "      <th>Incentive_Allowance</th>\n",
       "      <th>Other</th>\n",
       "      <th>YTD_Total</th>\n",
       "      <th>ObjectId</th>\n",
       "    </tr>\n",
       "  </thead>\n",
       "  <tbody>\n",
       "    <tr>\n",
       "      <th>26800</th>\n",
       "      <td>2024</td>\n",
       "      <td>Hancock, Steven</td>\n",
       "      <td>Louisville Free Public Library</td>\n",
       "      <td>Library Clerk LU</td>\n",
       "      <td>37044.8</td>\n",
       "      <td>23843.6</td>\n",
       "      <td>838.08</td>\n",
       "      <td>0.0</td>\n",
       "      <td>NaN</td>\n",
       "      <td>24712.18</td>\n",
       "      <td>26801</td>\n",
       "    </tr>\n",
       "  </tbody>\n",
       "</table>\n",
       "</div>"
      ],
      "text/plain": [
       "       CalYear    Employee_Name                      Department  \\\n",
       "26800     2024  Hancock, Steven  Louisville Free Public Library   \n",
       "\n",
       "               jobTitle  Annual_Rate  Regular_Rate  Overtime_Rate  \\\n",
       "26800  Library Clerk LU      37044.8       23843.6         838.08   \n",
       "\n",
       "       Incentive_Allowance  Other  YTD_Total  ObjectId  \n",
       "26800                  0.0    NaN   24712.18     26801  "
      ]
     },
     "execution_count": 9,
     "metadata": {},
     "output_type": "execute_result"
    }
   ],
   "source": [
    "df_2024 = df[df['CalYear'] == 2024]\n",
    "df_2024.head(1)"
   ]
  },
  {
   "cell_type": "markdown",
   "metadata": {},
   "source": [
    "This will test to see if you filtered the dataframe correctly. "
   ]
  },
  {
   "cell_type": "code",
   "execution_count": 10,
   "metadata": {},
   "outputs": [
    {
     "name": "stdout",
     "output_type": "stream",
     "text": [
      "Congratulations, you dropped the correct columns!\n"
     ]
    }
   ],
   "source": [
    "try:\n",
    "    if 'df_2024' in globals():\n",
    "        if not df_2024[df_2024['CalYear'] != 2024].empty:\n",
    "            years = df_2024['CalYear'].unique()\n",
    "            print(f\"Your dataframe still has {years} in the CalYear column.\")\n",
    "        else:\n",
    "            print(\"Congratulations, you dropped the correct columns!\")\n",
    "    else:\n",
    "        print(\"The dataframe 'df_2024' is not defined. Did you name the dataframe correctly?\")       \n",
    "except NameError:\n",
    "    print(\"Did you name the dataframe correctly?\")"
   ]
  },
  {
   "cell_type": "markdown",
   "metadata": {},
   "source": [
    "Drop the columns in the `cols_to_drop` list. "
   ]
  },
  {
   "cell_type": "code",
   "execution_count": 11,
   "metadata": {},
   "outputs": [
    {
     "data": {
      "text/html": [
       "<div>\n",
       "<style scoped>\n",
       "    .dataframe tbody tr th:only-of-type {\n",
       "        vertical-align: middle;\n",
       "    }\n",
       "\n",
       "    .dataframe tbody tr th {\n",
       "        vertical-align: top;\n",
       "    }\n",
       "\n",
       "    .dataframe thead th {\n",
       "        text-align: right;\n",
       "    }\n",
       "</style>\n",
       "<table border=\"1\" class=\"dataframe\">\n",
       "  <thead>\n",
       "    <tr style=\"text-align: right;\">\n",
       "      <th></th>\n",
       "      <th>CalYear</th>\n",
       "      <th>Employee_Name</th>\n",
       "      <th>Department</th>\n",
       "      <th>jobTitle</th>\n",
       "      <th>Regular_Rate</th>\n",
       "      <th>YTD_Total</th>\n",
       "    </tr>\n",
       "  </thead>\n",
       "  <tbody>\n",
       "    <tr>\n",
       "      <th>26800</th>\n",
       "      <td>2024</td>\n",
       "      <td>Hancock, Steven</td>\n",
       "      <td>Louisville Free Public Library</td>\n",
       "      <td>Library Clerk LU</td>\n",
       "      <td>23843.6</td>\n",
       "      <td>24712.18</td>\n",
       "    </tr>\n",
       "  </tbody>\n",
       "</table>\n",
       "</div>"
      ],
      "text/plain": [
       "       CalYear    Employee_Name                      Department  \\\n",
       "26800     2024  Hancock, Steven  Louisville Free Public Library   \n",
       "\n",
       "               jobTitle  Regular_Rate  YTD_Total  \n",
       "26800  Library Clerk LU       23843.6   24712.18  "
      ]
     },
     "execution_count": 11,
     "metadata": {},
     "output_type": "execute_result"
    }
   ],
   "source": [
    "cols_to_drop = ['Annual_Rate', 'Overtime_Rate', 'Incentive_Allowance', 'Other', 'ObjectId']\n",
    "\n",
    "df_2024 = df_2024.drop(columns=cols_to_drop)\n",
    "df_2024.head(1)"
   ]
  },
  {
   "cell_type": "markdown",
   "metadata": {},
   "source": [
    "This will check to see if the columns got dropped or not."
   ]
  },
  {
   "cell_type": "code",
   "execution_count": 12,
   "metadata": {},
   "outputs": [
    {
     "name": "stdout",
     "output_type": "stream",
     "text": [
      "Congratulations, all specified columns were successfully dropped!\n"
     ]
    }
   ],
   "source": [
    "try:\n",
    "    if 'df_2024' in globals():\n",
    "        cols_to_drop = ['Annual_Rate', 'Overtime_Rate', 'Incentive_Allowance', 'Other', 'ObjectId']\n",
    "        remaining_cols = [col for col in cols_to_drop if col in df_2024.columns]\n",
    "        if remaining_cols:\n",
    "            print(f\"The following columns were not dropped: {remaining_cols}\")\n",
    "        else:\n",
    "            print(\"Congratulations, all specified columns were successfully dropped!\")\n",
    "    else:\n",
    "        print(\"The dataframe 'df_2024' is not defined. Did you name the dataframe correctly?\")\n",
    "        \n",
    "except NameError:\n",
    "    print(\"Did you name the dataframe correctly?\")\n"
   ]
  },
  {
   "cell_type": "markdown",
   "metadata": {},
   "source": [
    "Remove rows from `df_2024` where the `YTD_Total` column contains either null values or zeros."
   ]
  },
  {
   "cell_type": "code",
   "execution_count": 13,
   "metadata": {},
   "outputs": [],
   "source": [
    "df_2024 = df_2024[df_2024['YTD_Total'].notna() & (df_2024['YTD_Total'] != 0)]"
   ]
  },
  {
   "cell_type": "markdown",
   "metadata": {},
   "source": [
    "This will test to see if you removed rows with NaN or 0 values in 'YTD_Total'."
   ]
  },
  {
   "cell_type": "code",
   "execution_count": 14,
   "metadata": {},
   "outputs": [
    {
     "name": "stdout",
     "output_type": "stream",
     "text": [
      "Congratulations, you've successfully removed rows with NaN or 0 values in 'YTD_Total'!\n"
     ]
    }
   ],
   "source": [
    "try:\n",
    "    if 'df_2024' in globals():\n",
    "        if df_2024['YTD_Total'].isna().any():\n",
    "            print(\"There are still NaN values in the 'YTD_Total' column.\")\n",
    "        elif (df_2024['YTD_Total'] == 0).any():\n",
    "            print(\"There are still rows with 'YTD_Total' equal to 0.\")\n",
    "        else:\n",
    "            print(\"Congratulations, you've successfully removed rows with NaN or 0 values in 'YTD_Total'!\")\n",
    "    \n",
    "    else:\n",
    "        print(\"The dataframe 'df_2024' is not defined. Did you name the dataframe correctly?\")\n",
    "        \n",
    "except NameError:\n",
    "    print(\"Did you name the dataframe correctly?\")\n"
   ]
  },
  {
   "cell_type": "markdown",
   "metadata": {},
   "source": [
    "If all the above was done correctly the below code will run and plot our findings of annual salary vs YTD salary spend. "
   ]
  },
  {
   "cell_type": "code",
   "execution_count": 15,
   "metadata": {},
   "outputs": [
    {
     "data": {
      "image/png": "[encoded data removed]",
      "text/plain": [
       "<Figure size 1400x600 with 1 Axes>"
      ]
     },
     "metadata": {},
     "output_type": "display_data"
    }
   ],
   "source": [
    "grouped_df = df_2024.groupby('Department')[['Regular_Rate', 'YTD_Total']].sum()\n",
    "grouped_df = grouped_df.sort_values(by='Regular_Rate', ascending=False).head(5)\n",
    "\n",
    "fig, ax = plt.subplots(figsize=(14, 6))\n",
    "\n",
    "grouped_df.plot(kind='line', marker='o', ax=ax, color=['grey', 'red'], legend=True)\n",
    "\n",
    "ax.set_title('Annual Salary vs YTD Total by Department')\n",
    "ax.set_xlabel('Department')\n",
    "ax.set_ylabel('Value')\n",
    "\n",
    "def millions(x, pos):\n",
    "    'The two args are the value and tick position'\n",
    "    return '%1.1fM' % (x * 1e-6)\n",
    "\n",
    "ax.yaxis.set_major_formatter(ticker.FuncFormatter(millions))\n",
    "ax.yaxis.set_major_locator(ticker.MaxNLocator(integer=True))\n",
    "\n",
    "plt.xticks(rotation=45, ha='right')\n",
    "\n",
    "ax.set_xticks(range(len(grouped_df)))\n",
    "ax.set_xticklabels(grouped_df.index, rotation=45, ha='right')\n",
    "\n",
    "ax.set_xlim([-0.5, len(grouped_df) - 0.5])\n",
    "\n",
    "y_min, y_max = grouped_df.min().min() * 0.9, grouped_df.max().max() * 1.1\n",
    "ax.set_ylim([y_min, y_max])\n",
    "\n",
    "handles, labels = ax.get_legend_handles_labels()\n",
    "ax.legend([handles[0], handles[1]], ['Salary', 'YTD Total'])\n",
    "\n",
    "plt.grid(True)\n",
    "plt.tight_layout()\n",
    "plt.show()"
   ]
  },
  {
   "cell_type": "code",
   "execution_count": 16,
   "metadata": {},
   "outputs": [
    {
     "data": {
      "image/png": "[encoded data removed]",
      "text/plain": [
       "<Figure size 1400x600 with 1 Axes>"
      ]
     },
     "metadata": {},
     "output_type": "display_data"
    }
   ],
   "source": [
    "grouped_df = df_2024.groupby('Department')[['Regular_Rate', 'YTD_Total']].sum()\n",
    "grouped_df = grouped_df.sort_values(by='Regular_Rate', ascending=False).head(5)\n",
    "\n",
    "fig, ax = plt.subplots(figsize=(14, 6))\n",
    "\n",
    "grouped_df.plot(kind='bar', stacked=True, ax=ax, color=['grey', 'red'], legend=True)\n",
    "\n",
    "ax.set_title('Annual Salary vs YTD Total by Department')\n",
    "ax.set_xlabel('Department')\n",
    "ax.set_ylabel('Value')\n",
    "\n",
    "def millions(x, pos):\n",
    "    return '%1.1fM' % (x * 1e-6)\n",
    "\n",
    "ax.yaxis.set_major_formatter(ticker.FuncFormatter(millions))\n",
    "ax.yaxis.set_major_locator(ticker.MaxNLocator(integer=True))\n",
    "\n",
    "plt.xticks(rotation=45, ha='right')\n",
    "\n",
    "ax.set_xticks(range(len(grouped_df)))\n",
    "ax.set_xticklabels(grouped_df.index, rotation=45, ha='right')\n",
    "\n",
    "y_min, y_max = grouped_df.min().min() * 0.9, grouped_df.max().max() * 1.1\n",
    "ax.set_ylim([y_min, y_max])\n",
    "\n",
    "handles, labels = ax.get_legend_handles_labels()\n",
    "ax.legend([handles[0], handles[1]], ['Salary', 'YTD Total'])\n",
    "\n",
    "plt.grid(True)\n",
    "plt.tight_layout()\n",
    "plt.show()"
   ]
  }
 ],
 "metadata": {
  "kernelspec": {
   "display_name": "venv",
   "language": "python",
   "name": "python3"
  },
  "language_info": {
   "codemirror_mode": {
    "name": "ipython",
    "version": 3
   },
   "file_extension": ".py",
   "mimetype": "text/x-python",
   "name": "python",
   "nbconvert_exporter": "python",
   "pygments_lexer": "ipython3",
   "version": "3.12.2"
  }
 },
 "nbformat": 4,
 "nbformat_minor": 2
}
